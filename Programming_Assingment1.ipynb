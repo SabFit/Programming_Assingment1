{
 "cells": [
  {
   "cell_type": "markdown",
   "id": "3df1de29-af84-4142-9816-5fcf0964c794",
   "metadata": {},
   "source": [
    "Write a Python program to print &quot;Hello Python&quot;?"
   ]
  },
  {
   "cell_type": "code",
   "execution_count": 2,
   "id": "01d0ee98-a152-425a-b944-bd7832d261d2",
   "metadata": {},
   "outputs": [
    {
     "name": "stdout",
     "output_type": "stream",
     "text": [
      "Hello Python\n"
     ]
    }
   ],
   "source": [
    "print(\"Hello Python\")"
   ]
  },
  {
   "cell_type": "markdown",
   "id": "43073208-072d-41eb-8b09-8ede4370dc4e",
   "metadata": {},
   "source": [
    "2.\tWrite a Python program to do arithmetical operations addition and division.?"
   ]
  },
  {
   "cell_type": "code",
   "execution_count": 5,
   "id": "6c09c832-3590-4468-95cb-8197f8fad321",
   "metadata": {},
   "outputs": [
    {
     "name": "stdout",
     "output_type": "stream",
     "text": [
      "6 5.0\n"
     ]
    }
   ],
   "source": [
    "x=5\n",
    "y=1\n",
    "print(x+y,x/y)"
   ]
  },
  {
   "cell_type": "markdown",
   "id": "6ba7d0d9-5b93-4539-8a1a-bd65f82cf5d9",
   "metadata": {},
   "source": [
    "3. Write a Python program to find the area of a triangle?"
   ]
  },
  {
   "cell_type": "code",
   "execution_count": 12,
   "id": "729f97aa-7a64-489b-98d0-7cd5f6c75aa2",
   "metadata": {},
   "outputs": [
    {
     "name": "stdin",
     "output_type": "stream",
     "text": [
      "enter the base of the traingle 3\n",
      "enter the height of the triangle 2\n"
     ]
    },
    {
     "name": "stdout",
     "output_type": "stream",
     "text": [
      "The area of the triangle 3.0\n"
     ]
    }
   ],
   "source": [
    "b=float(input(\"enter the base of the traingle\"))\n",
    "h=float(input(\"enter the height of the triangle\")) \n",
    "area = (b*h)/2\n",
    "print(\"The area of the triangle\" , area)"
   ]
  },
  {
   "cell_type": "markdown",
   "id": "f52b31a2-5bc4-47e4-afa3-24226431e771",
   "metadata": {},
   "source": [
    "4.Write a Python program to swap two variables?"
   ]
  },
  {
   "cell_type": "code",
   "execution_count": 13,
   "id": "ed53c25c-e7b5-4fe8-bbbf-de34d3b35e96",
   "metadata": {},
   "outputs": [
    {
     "name": "stdout",
     "output_type": "stream",
     "text": [
      "5 8\n"
     ]
    }
   ],
   "source": [
    "a=8\n",
    "b=5\n",
    "a,b=b,a\n",
    "print(a,b)"
   ]
  },
  {
   "cell_type": "markdown",
   "id": "d37cf61a-be13-4653-822e-d557915757d6",
   "metadata": {},
   "source": [
    "5.Write a Python program to generate a random number?"
   ]
  },
  {
   "cell_type": "code",
   "execution_count": 18,
   "id": "d1c111cd-10c1-4855-9958-6f14a0ba2fe1",
   "metadata": {},
   "outputs": [
    {
     "name": "stdout",
     "output_type": "stream",
     "text": [
      "The random number is  23\n"
     ]
    }
   ],
   "source": [
    "import random\n",
    "\n",
    "a=random.randint(1,50)\n",
    "print(\"The random number is \" ,a)"
   ]
  },
  {
   "cell_type": "code",
   "execution_count": null,
   "id": "4a690683-5e4f-4da0-b040-38ec76b64e5b",
   "metadata": {},
   "outputs": [],
   "source": []
  }
 ],
 "metadata": {
  "kernelspec": {
   "display_name": "Python 3 (ipykernel)",
   "language": "python",
   "name": "python3"
  },
  "language_info": {
   "codemirror_mode": {
    "name": "ipython",
    "version": 3
   },
   "file_extension": ".py",
   "mimetype": "text/x-python",
   "name": "python",
   "nbconvert_exporter": "python",
   "pygments_lexer": "ipython3",
   "version": "3.10.6"
  }
 },
 "nbformat": 4,
 "nbformat_minor": 5
}
